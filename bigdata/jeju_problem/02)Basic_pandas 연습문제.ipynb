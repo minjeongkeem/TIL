{
 "cells": [
  {
   "cell_type": "code",
   "execution_count": 1,
   "id": "d85321e1",
   "metadata": {},
   "outputs": [],
   "source": [
    "# q1. jeju 데이터를 로드해보세요. 컬럼이 한글이므로 적절한 처리가 필요"
   ]
  },
  {
   "cell_type": "code",
   "execution_count": 2,
   "id": "36b39dbb",
   "metadata": {},
   "outputs": [],
   "source": [
    "import pandas as pd\n",
    "import numpy as np"
   ]
  },
  {
   "cell_type": "code",
   "execution_count": 25,
   "id": "14636e67",
   "metadata": {},
   "outputs": [
    {
     "data": {
      "text/html": [
       "<div>\n",
       "<style scoped>\n",
       "    .dataframe tbody tr th:only-of-type {\n",
       "        vertical-align: middle;\n",
       "    }\n",
       "\n",
       "    .dataframe tbody tr th {\n",
       "        vertical-align: top;\n",
       "    }\n",
       "\n",
       "    .dataframe thead th {\n",
       "        text-align: right;\n",
       "    }\n",
       "</style>\n",
       "<table border=\"1\" class=\"dataframe\">\n",
       "  <thead>\n",
       "    <tr style=\"text-align: right;\">\n",
       "      <th></th>\n",
       "      <th>Unnamed: 0</th>\n",
       "      <th>id</th>\n",
       "      <th>일자</th>\n",
       "      <th>시도명</th>\n",
       "      <th>읍면동명</th>\n",
       "      <th>거주인구</th>\n",
       "      <th>근무인구</th>\n",
       "      <th>방문인구</th>\n",
       "      <th>총 유동인구</th>\n",
       "      <th>평균 속도</th>\n",
       "      <th>평균 소요 시간</th>\n",
       "      <th>평균 기온</th>\n",
       "      <th>일강수량</th>\n",
       "      <th>평균 풍속</th>\n",
       "    </tr>\n",
       "  </thead>\n",
       "  <tbody>\n",
       "    <tr>\n",
       "      <th>0</th>\n",
       "      <td>0</td>\n",
       "      <td>22448</td>\n",
       "      <td>2018-01-01</td>\n",
       "      <td>제주시</td>\n",
       "      <td>도두동</td>\n",
       "      <td>32249.987</td>\n",
       "      <td>3418.266</td>\n",
       "      <td>102709.092</td>\n",
       "      <td>138377.345</td>\n",
       "      <td>39.556</td>\n",
       "      <td>29.167</td>\n",
       "      <td>5.0</td>\n",
       "      <td>0.0</td>\n",
       "      <td>2.50</td>\n",
       "    </tr>\n",
       "    <tr>\n",
       "      <th>1</th>\n",
       "      <td>1</td>\n",
       "      <td>22449</td>\n",
       "      <td>2018-01-01</td>\n",
       "      <td>제주시</td>\n",
       "      <td>외도동</td>\n",
       "      <td>213500.997</td>\n",
       "      <td>10341.172</td>\n",
       "      <td>112692.789</td>\n",
       "      <td>336534.958</td>\n",
       "      <td>32.900</td>\n",
       "      <td>30.900</td>\n",
       "      <td>5.0</td>\n",
       "      <td>0.0</td>\n",
       "      <td>2.50</td>\n",
       "    </tr>\n",
       "    <tr>\n",
       "      <th>2</th>\n",
       "      <td>2</td>\n",
       "      <td>22450</td>\n",
       "      <td>2018-01-01</td>\n",
       "      <td>제주시</td>\n",
       "      <td>이도2동</td>\n",
       "      <td>1212382.218</td>\n",
       "      <td>96920.834</td>\n",
       "      <td>541194.481</td>\n",
       "      <td>1850497.533</td>\n",
       "      <td>29.538</td>\n",
       "      <td>35.692</td>\n",
       "      <td>2.9</td>\n",
       "      <td>0.0</td>\n",
       "      <td>2.40</td>\n",
       "    </tr>\n",
       "    <tr>\n",
       "      <th>3</th>\n",
       "      <td>3</td>\n",
       "      <td>22451</td>\n",
       "      <td>2018-01-01</td>\n",
       "      <td>제주시</td>\n",
       "      <td>일도1동</td>\n",
       "      <td>33991.653</td>\n",
       "      <td>6034.253</td>\n",
       "      <td>72155.919</td>\n",
       "      <td>112181.825</td>\n",
       "      <td>30.000</td>\n",
       "      <td>23.500</td>\n",
       "      <td>2.9</td>\n",
       "      <td>0.0</td>\n",
       "      <td>2.40</td>\n",
       "    </tr>\n",
       "    <tr>\n",
       "      <th>4</th>\n",
       "      <td>4</td>\n",
       "      <td>22452</td>\n",
       "      <td>2018-01-01</td>\n",
       "      <td>서귀포시</td>\n",
       "      <td>대천동</td>\n",
       "      <td>155036.925</td>\n",
       "      <td>9403.969</td>\n",
       "      <td>150882.409</td>\n",
       "      <td>315323.303</td>\n",
       "      <td>41.583</td>\n",
       "      <td>14.375</td>\n",
       "      <td>5.1</td>\n",
       "      <td>0.0</td>\n",
       "      <td>2.30</td>\n",
       "    </tr>\n",
       "    <tr>\n",
       "      <th>...</th>\n",
       "      <td>...</td>\n",
       "      <td>...</td>\n",
       "      <td>...</td>\n",
       "      <td>...</td>\n",
       "      <td>...</td>\n",
       "      <td>...</td>\n",
       "      <td>...</td>\n",
       "      <td>...</td>\n",
       "      <td>...</td>\n",
       "      <td>...</td>\n",
       "      <td>...</td>\n",
       "      <td>...</td>\n",
       "      <td>...</td>\n",
       "      <td>...</td>\n",
       "    </tr>\n",
       "    <tr>\n",
       "      <th>9616</th>\n",
       "      <td>9616</td>\n",
       "      <td>32064</td>\n",
       "      <td>2020-04-30</td>\n",
       "      <td>서귀포시</td>\n",
       "      <td>표선면</td>\n",
       "      <td>228260.005</td>\n",
       "      <td>16891.732</td>\n",
       "      <td>152832.449</td>\n",
       "      <td>397984.186</td>\n",
       "      <td>44.514</td>\n",
       "      <td>34.054</td>\n",
       "      <td>18.1</td>\n",
       "      <td>0.0</td>\n",
       "      <td>4.70</td>\n",
       "    </tr>\n",
       "    <tr>\n",
       "      <th>9617</th>\n",
       "      <td>9617</td>\n",
       "      <td>32065</td>\n",
       "      <td>2020-04-30</td>\n",
       "      <td>제주시</td>\n",
       "      <td>한림읍</td>\n",
       "      <td>459959.064</td>\n",
       "      <td>26007.122</td>\n",
       "      <td>249700.419</td>\n",
       "      <td>735666.605</td>\n",
       "      <td>48.609</td>\n",
       "      <td>61.377</td>\n",
       "      <td>18.0</td>\n",
       "      <td>0.0</td>\n",
       "      <td>4.35</td>\n",
       "    </tr>\n",
       "    <tr>\n",
       "      <th>9618</th>\n",
       "      <td>9618</td>\n",
       "      <td>32066</td>\n",
       "      <td>2020-04-30</td>\n",
       "      <td>제주시</td>\n",
       "      <td>도두동</td>\n",
       "      <td>28397.481</td>\n",
       "      <td>3144.895</td>\n",
       "      <td>84052.697</td>\n",
       "      <td>115595.073</td>\n",
       "      <td>41.053</td>\n",
       "      <td>29.421</td>\n",
       "      <td>20.3</td>\n",
       "      <td>0.0</td>\n",
       "      <td>3.00</td>\n",
       "    </tr>\n",
       "    <tr>\n",
       "      <th>9619</th>\n",
       "      <td>9619</td>\n",
       "      <td>32067</td>\n",
       "      <td>2020-04-30</td>\n",
       "      <td>서귀포시</td>\n",
       "      <td>안덕면</td>\n",
       "      <td>348037.846</td>\n",
       "      <td>29106.286</td>\n",
       "      <td>251129.660</td>\n",
       "      <td>628273.792</td>\n",
       "      <td>46.595</td>\n",
       "      <td>49.189</td>\n",
       "      <td>17.6</td>\n",
       "      <td>0.0</td>\n",
       "      <td>3.50</td>\n",
       "    </tr>\n",
       "    <tr>\n",
       "      <th>9620</th>\n",
       "      <td>9620</td>\n",
       "      <td>32068</td>\n",
       "      <td>2020-04-30</td>\n",
       "      <td>제주시</td>\n",
       "      <td>연동</td>\n",
       "      <td>1010643.372</td>\n",
       "      <td>65673.477</td>\n",
       "      <td>447622.068</td>\n",
       "      <td>1523938.917</td>\n",
       "      <td>40.863</td>\n",
       "      <td>27.765</td>\n",
       "      <td>14.1</td>\n",
       "      <td>0.0</td>\n",
       "      <td>4.80</td>\n",
       "    </tr>\n",
       "  </tbody>\n",
       "</table>\n",
       "<p>9621 rows × 14 columns</p>\n",
       "</div>"
      ],
      "text/plain": [
       "      Unnamed: 0     id          일자   시도명  읍면동명         거주인구       근무인구  \\\n",
       "0              0  22448  2018-01-01   제주시   도두동    32249.987   3418.266   \n",
       "1              1  22449  2018-01-01   제주시   외도동   213500.997  10341.172   \n",
       "2              2  22450  2018-01-01   제주시  이도2동  1212382.218  96920.834   \n",
       "3              3  22451  2018-01-01   제주시  일도1동    33991.653   6034.253   \n",
       "4              4  22452  2018-01-01  서귀포시   대천동   155036.925   9403.969   \n",
       "...          ...    ...         ...   ...   ...          ...        ...   \n",
       "9616        9616  32064  2020-04-30  서귀포시   표선면   228260.005  16891.732   \n",
       "9617        9617  32065  2020-04-30   제주시   한림읍   459959.064  26007.122   \n",
       "9618        9618  32066  2020-04-30   제주시   도두동    28397.481   3144.895   \n",
       "9619        9619  32067  2020-04-30  서귀포시   안덕면   348037.846  29106.286   \n",
       "9620        9620  32068  2020-04-30   제주시    연동  1010643.372  65673.477   \n",
       "\n",
       "            방문인구       총 유동인구   평균 속도  평균 소요 시간  평균 기온  일강수량  평균 풍속  \n",
       "0     102709.092   138377.345  39.556    29.167    5.0   0.0   2.50  \n",
       "1     112692.789   336534.958  32.900    30.900    5.0   0.0   2.50  \n",
       "2     541194.481  1850497.533  29.538    35.692    2.9   0.0   2.40  \n",
       "3      72155.919   112181.825  30.000    23.500    2.9   0.0   2.40  \n",
       "4     150882.409   315323.303  41.583    14.375    5.1   0.0   2.30  \n",
       "...          ...          ...     ...       ...    ...   ...    ...  \n",
       "9616  152832.449   397984.186  44.514    34.054   18.1   0.0   4.70  \n",
       "9617  249700.419   735666.605  48.609    61.377   18.0   0.0   4.35  \n",
       "9618   84052.697   115595.073  41.053    29.421   20.3   0.0   3.00  \n",
       "9619  251129.660   628273.792  46.595    49.189   17.6   0.0   3.50  \n",
       "9620  447622.068  1523938.917  40.863    27.765   14.1   0.0   4.80  \n",
       "\n",
       "[9621 rows x 14 columns]"
      ]
     },
     "execution_count": 25,
     "metadata": {},
     "output_type": "execute_result"
    }
   ],
   "source": [
    "# 보통 한글 파일은 encoding = 'euc-kr' 추가 필요\n",
    "df_jeju = pd.read_csv('C:/Users/miinn/TIL/bigdata/jeju_problem/jeju.csv')\n",
    "df_jeju"
   ]
  },
  {
   "cell_type": "code",
   "execution_count": 4,
   "id": "e6c20170",
   "metadata": {},
   "outputs": [],
   "source": [
    "# q2. 데이터의 마지막 3개 행을 호출해보세요."
   ]
  },
  {
   "cell_type": "code",
   "execution_count": 5,
   "id": "a61b5f3d",
   "metadata": {},
   "outputs": [
    {
     "data": {
      "text/html": [
       "<div>\n",
       "<style scoped>\n",
       "    .dataframe tbody tr th:only-of-type {\n",
       "        vertical-align: middle;\n",
       "    }\n",
       "\n",
       "    .dataframe tbody tr th {\n",
       "        vertical-align: top;\n",
       "    }\n",
       "\n",
       "    .dataframe thead th {\n",
       "        text-align: right;\n",
       "    }\n",
       "</style>\n",
       "<table border=\"1\" class=\"dataframe\">\n",
       "  <thead>\n",
       "    <tr style=\"text-align: right;\">\n",
       "      <th></th>\n",
       "      <th>Unnamed: 0</th>\n",
       "      <th>id</th>\n",
       "      <th>일자</th>\n",
       "      <th>시도명</th>\n",
       "      <th>읍면동명</th>\n",
       "      <th>거주인구</th>\n",
       "      <th>근무인구</th>\n",
       "      <th>방문인구</th>\n",
       "      <th>총 유동인구</th>\n",
       "      <th>평균 속도</th>\n",
       "      <th>평균 소요 시간</th>\n",
       "      <th>평균 기온</th>\n",
       "      <th>일강수량</th>\n",
       "      <th>평균 풍속</th>\n",
       "    </tr>\n",
       "  </thead>\n",
       "  <tbody>\n",
       "    <tr>\n",
       "      <th>9618</th>\n",
       "      <td>9618</td>\n",
       "      <td>32066</td>\n",
       "      <td>2020-04-30</td>\n",
       "      <td>제주시</td>\n",
       "      <td>도두동</td>\n",
       "      <td>28397.481</td>\n",
       "      <td>3144.895</td>\n",
       "      <td>84052.697</td>\n",
       "      <td>115595.073</td>\n",
       "      <td>41.053</td>\n",
       "      <td>29.421</td>\n",
       "      <td>20.3</td>\n",
       "      <td>0.0</td>\n",
       "      <td>3.0</td>\n",
       "    </tr>\n",
       "    <tr>\n",
       "      <th>9619</th>\n",
       "      <td>9619</td>\n",
       "      <td>32067</td>\n",
       "      <td>2020-04-30</td>\n",
       "      <td>서귀포시</td>\n",
       "      <td>안덕면</td>\n",
       "      <td>348037.846</td>\n",
       "      <td>29106.286</td>\n",
       "      <td>251129.660</td>\n",
       "      <td>628273.792</td>\n",
       "      <td>46.595</td>\n",
       "      <td>49.189</td>\n",
       "      <td>17.6</td>\n",
       "      <td>0.0</td>\n",
       "      <td>3.5</td>\n",
       "    </tr>\n",
       "    <tr>\n",
       "      <th>9620</th>\n",
       "      <td>9620</td>\n",
       "      <td>32068</td>\n",
       "      <td>2020-04-30</td>\n",
       "      <td>제주시</td>\n",
       "      <td>연동</td>\n",
       "      <td>1010643.372</td>\n",
       "      <td>65673.477</td>\n",
       "      <td>447622.068</td>\n",
       "      <td>1523938.917</td>\n",
       "      <td>40.863</td>\n",
       "      <td>27.765</td>\n",
       "      <td>14.1</td>\n",
       "      <td>0.0</td>\n",
       "      <td>4.8</td>\n",
       "    </tr>\n",
       "  </tbody>\n",
       "</table>\n",
       "</div>"
      ],
      "text/plain": [
       "      Unnamed: 0     id          일자   시도명 읍면동명         거주인구       근무인구  \\\n",
       "9618        9618  32066  2020-04-30   제주시  도두동    28397.481   3144.895   \n",
       "9619        9619  32067  2020-04-30  서귀포시  안덕면   348037.846  29106.286   \n",
       "9620        9620  32068  2020-04-30   제주시   연동  1010643.372  65673.477   \n",
       "\n",
       "            방문인구       총 유동인구   평균 속도  평균 소요 시간  평균 기온  일강수량  평균 풍속  \n",
       "9618   84052.697   115595.073  41.053    29.421   20.3   0.0    3.0  \n",
       "9619  251129.660   628273.792  46.595    49.189   17.6   0.0    3.5  \n",
       "9620  447622.068  1523938.917  40.863    27.765   14.1   0.0    4.8  "
      ]
     },
     "execution_count": 5,
     "metadata": {},
     "output_type": "execute_result"
    }
   ],
   "source": [
    "df_jeju.tail(3)"
   ]
  },
  {
   "cell_type": "code",
   "execution_count": 6,
   "id": "6e662c4f",
   "metadata": {},
   "outputs": [],
   "source": [
    "# q3. 숫자형 변수를 가진 컬럼을 출력해보세요."
   ]
  },
  {
   "cell_type": "code",
   "execution_count": 30,
   "id": "18e35338",
   "metadata": {},
   "outputs": [
    {
     "data": {
      "text/plain": [
       "Index(['거주인구', '근무인구', '방문인구', '총 유동인구', '평균 속도', '평균 소요 시간', '평균 기온', '일강수량',\n",
       "       '평균 풍속'],\n",
       "      dtype='object')"
      ]
     },
     "execution_count": 30,
     "metadata": {},
     "output_type": "execute_result"
    }
   ],
   "source": [
    "df_jeju.select_dtypes(include=['float64']).columns"
   ]
  },
  {
   "cell_type": "code",
   "execution_count": 8,
   "id": "a165906e",
   "metadata": {},
   "outputs": [],
   "source": [
    "# q4. 범주형 변수를 가진 컬럼을 출력해보세요."
   ]
  },
  {
   "cell_type": "code",
   "execution_count": 29,
   "id": "ed32cfe0",
   "metadata": {},
   "outputs": [
    {
     "data": {
      "text/plain": [
       "Index(['일자', '시도명', '읍면동명'], dtype='object')"
      ]
     },
     "execution_count": 29,
     "metadata": {},
     "output_type": "execute_result"
    }
   ],
   "source": [
    "df_jeju_object = df_jeju.select_dtypes(include=['object'])\n",
    "df_jeju.select_dtypes(include=['object']).columns"
   ]
  },
  {
   "cell_type": "code",
   "execution_count": 10,
   "id": "fd8ede68",
   "metadata": {},
   "outputs": [],
   "source": [
    "# q5. 각 컬럼들의 결측치 숫자들을 파악해보세요."
   ]
  },
  {
   "cell_type": "code",
   "execution_count": 11,
   "id": "4f21bbfa",
   "metadata": {},
   "outputs": [
    {
     "data": {
      "text/plain": [
       "Unnamed: 0    0\n",
       "id            0\n",
       "일자            0\n",
       "시도명           0\n",
       "읍면동명          0\n",
       "거주인구          0\n",
       "근무인구          0\n",
       "방문인구          0\n",
       "총 유동인구        0\n",
       "평균 속도         0\n",
       "평균 소요 시간      0\n",
       "평균 기온         0\n",
       "일강수량          0\n",
       "평균 풍속         0\n",
       "dtype: int64"
      ]
     },
     "execution_count": 11,
     "metadata": {},
     "output_type": "execute_result"
    }
   ],
   "source": [
    "df_jeju.isnull().sum()"
   ]
  },
  {
   "cell_type": "code",
   "execution_count": 12,
   "id": "d2b8d076",
   "metadata": {},
   "outputs": [],
   "source": [
    "# q6. 각 컬럼의 데이터수, 데이터타입을 한 번에 확인해보세요."
   ]
  },
  {
   "cell_type": "code",
   "execution_count": 13,
   "id": "8fcc3827",
   "metadata": {},
   "outputs": [
    {
     "name": "stdout",
     "output_type": "stream",
     "text": [
      "<class 'pandas.core.frame.DataFrame'>\n",
      "RangeIndex: 9621 entries, 0 to 9620\n",
      "Data columns (total 14 columns):\n",
      " #   Column      Non-Null Count  Dtype  \n",
      "---  ------      --------------  -----  \n",
      " 0   Unnamed: 0  9621 non-null   int64  \n",
      " 1   id          9621 non-null   int64  \n",
      " 2   일자          9621 non-null   object \n",
      " 3   시도명         9621 non-null   object \n",
      " 4   읍면동명        9621 non-null   object \n",
      " 5   거주인구        9621 non-null   float64\n",
      " 6   근무인구        9621 non-null   float64\n",
      " 7   방문인구        9621 non-null   float64\n",
      " 8   총 유동인구      9621 non-null   float64\n",
      " 9   평균 속도       9621 non-null   float64\n",
      " 10  평균 소요 시간    9621 non-null   float64\n",
      " 11  평균 기온       9621 non-null   float64\n",
      " 12  일강수량        9621 non-null   float64\n",
      " 13  평균 풍속       9621 non-null   float64\n",
      "dtypes: float64(9), int64(2), object(3)\n",
      "memory usage: 1.0+ MB\n"
     ]
    }
   ],
   "source": [
    "df_jeju.info()"
   ]
  },
  {
   "cell_type": "code",
   "execution_count": 14,
   "id": "7461942a",
   "metadata": {},
   "outputs": [],
   "source": [
    "# q7. 거주인구, 근무인구와 방문인구, 총 유동인구로만 구성된 df를 만드세요."
   ]
  },
  {
   "cell_type": "code",
   "execution_count": 15,
   "id": "6e3c943d",
   "metadata": {},
   "outputs": [
    {
     "data": {
      "text/html": [
       "<div>\n",
       "<style scoped>\n",
       "    .dataframe tbody tr th:only-of-type {\n",
       "        vertical-align: middle;\n",
       "    }\n",
       "\n",
       "    .dataframe tbody tr th {\n",
       "        vertical-align: top;\n",
       "    }\n",
       "\n",
       "    .dataframe thead th {\n",
       "        text-align: right;\n",
       "    }\n",
       "</style>\n",
       "<table border=\"1\" class=\"dataframe\">\n",
       "  <thead>\n",
       "    <tr style=\"text-align: right;\">\n",
       "      <th></th>\n",
       "      <th>거주인구</th>\n",
       "      <th>근무인구</th>\n",
       "      <th>방문인구</th>\n",
       "      <th>총 유동인구</th>\n",
       "    </tr>\n",
       "  </thead>\n",
       "  <tbody>\n",
       "    <tr>\n",
       "      <th>0</th>\n",
       "      <td>32249.987</td>\n",
       "      <td>3418.266</td>\n",
       "      <td>102709.092</td>\n",
       "      <td>138377.345</td>\n",
       "    </tr>\n",
       "    <tr>\n",
       "      <th>1</th>\n",
       "      <td>213500.997</td>\n",
       "      <td>10341.172</td>\n",
       "      <td>112692.789</td>\n",
       "      <td>336534.958</td>\n",
       "    </tr>\n",
       "    <tr>\n",
       "      <th>2</th>\n",
       "      <td>1212382.218</td>\n",
       "      <td>96920.834</td>\n",
       "      <td>541194.481</td>\n",
       "      <td>1850497.533</td>\n",
       "    </tr>\n",
       "    <tr>\n",
       "      <th>3</th>\n",
       "      <td>33991.653</td>\n",
       "      <td>6034.253</td>\n",
       "      <td>72155.919</td>\n",
       "      <td>112181.825</td>\n",
       "    </tr>\n",
       "    <tr>\n",
       "      <th>4</th>\n",
       "      <td>155036.925</td>\n",
       "      <td>9403.969</td>\n",
       "      <td>150882.409</td>\n",
       "      <td>315323.303</td>\n",
       "    </tr>\n",
       "    <tr>\n",
       "      <th>...</th>\n",
       "      <td>...</td>\n",
       "      <td>...</td>\n",
       "      <td>...</td>\n",
       "      <td>...</td>\n",
       "    </tr>\n",
       "    <tr>\n",
       "      <th>9616</th>\n",
       "      <td>228260.005</td>\n",
       "      <td>16891.732</td>\n",
       "      <td>152832.449</td>\n",
       "      <td>397984.186</td>\n",
       "    </tr>\n",
       "    <tr>\n",
       "      <th>9617</th>\n",
       "      <td>459959.064</td>\n",
       "      <td>26007.122</td>\n",
       "      <td>249700.419</td>\n",
       "      <td>735666.605</td>\n",
       "    </tr>\n",
       "    <tr>\n",
       "      <th>9618</th>\n",
       "      <td>28397.481</td>\n",
       "      <td>3144.895</td>\n",
       "      <td>84052.697</td>\n",
       "      <td>115595.073</td>\n",
       "    </tr>\n",
       "    <tr>\n",
       "      <th>9619</th>\n",
       "      <td>348037.846</td>\n",
       "      <td>29106.286</td>\n",
       "      <td>251129.660</td>\n",
       "      <td>628273.792</td>\n",
       "    </tr>\n",
       "    <tr>\n",
       "      <th>9620</th>\n",
       "      <td>1010643.372</td>\n",
       "      <td>65673.477</td>\n",
       "      <td>447622.068</td>\n",
       "      <td>1523938.917</td>\n",
       "    </tr>\n",
       "  </tbody>\n",
       "</table>\n",
       "<p>9621 rows × 4 columns</p>\n",
       "</div>"
      ],
      "text/plain": [
       "             거주인구       근무인구        방문인구       총 유동인구\n",
       "0       32249.987   3418.266  102709.092   138377.345\n",
       "1      213500.997  10341.172  112692.789   336534.958\n",
       "2     1212382.218  96920.834  541194.481  1850497.533\n",
       "3       33991.653   6034.253   72155.919   112181.825\n",
       "4      155036.925   9403.969  150882.409   315323.303\n",
       "...           ...        ...         ...          ...\n",
       "9616   228260.005  16891.732  152832.449   397984.186\n",
       "9617   459959.064  26007.122  249700.419   735666.605\n",
       "9618    28397.481   3144.895   84052.697   115595.073\n",
       "9619   348037.846  29106.286  251129.660   628273.792\n",
       "9620  1010643.372  65673.477  447622.068  1523938.917\n",
       "\n",
       "[9621 rows x 4 columns]"
      ]
     },
     "execution_count": 15,
     "metadata": {},
     "output_type": "execute_result"
    }
   ],
   "source": [
    "df_jeju_population = df_jeju.iloc[:, 5:9]\n",
    "df_jeju_population"
   ]
  },
  {
   "cell_type": "code",
   "execution_count": 16,
   "id": "ec641508",
   "metadata": {},
   "outputs": [],
   "source": [
    "# q8 위에서 생성된 df에 행을 추가해주세요\n",
    "# 추가 행값은 min값으로 해주세요."
   ]
  },
  {
   "cell_type": "code",
   "execution_count": 31,
   "id": "350eb3ad",
   "metadata": {
    "scrolled": true
   },
   "outputs": [
    {
     "data": {
      "text/html": [
       "<div>\n",
       "<style scoped>\n",
       "    .dataframe tbody tr th:only-of-type {\n",
       "        vertical-align: middle;\n",
       "    }\n",
       "\n",
       "    .dataframe tbody tr th {\n",
       "        vertical-align: top;\n",
       "    }\n",
       "\n",
       "    .dataframe thead th {\n",
       "        text-align: right;\n",
       "    }\n",
       "</style>\n",
       "<table border=\"1\" class=\"dataframe\">\n",
       "  <thead>\n",
       "    <tr style=\"text-align: right;\">\n",
       "      <th></th>\n",
       "      <th>거주인구</th>\n",
       "      <th>근무인구</th>\n",
       "      <th>방문인구</th>\n",
       "      <th>총 유동인구</th>\n",
       "    </tr>\n",
       "  </thead>\n",
       "  <tbody>\n",
       "    <tr>\n",
       "      <th>0</th>\n",
       "      <td>32249.987</td>\n",
       "      <td>3418.266</td>\n",
       "      <td>102709.092</td>\n",
       "      <td>138377.345</td>\n",
       "    </tr>\n",
       "    <tr>\n",
       "      <th>1</th>\n",
       "      <td>213500.997</td>\n",
       "      <td>10341.172</td>\n",
       "      <td>112692.789</td>\n",
       "      <td>336534.958</td>\n",
       "    </tr>\n",
       "    <tr>\n",
       "      <th>2</th>\n",
       "      <td>1212382.218</td>\n",
       "      <td>96920.834</td>\n",
       "      <td>541194.481</td>\n",
       "      <td>1850497.533</td>\n",
       "    </tr>\n",
       "    <tr>\n",
       "      <th>3</th>\n",
       "      <td>33991.653</td>\n",
       "      <td>6034.253</td>\n",
       "      <td>72155.919</td>\n",
       "      <td>112181.825</td>\n",
       "    </tr>\n",
       "    <tr>\n",
       "      <th>4</th>\n",
       "      <td>155036.925</td>\n",
       "      <td>9403.969</td>\n",
       "      <td>150882.409</td>\n",
       "      <td>315323.303</td>\n",
       "    </tr>\n",
       "    <tr>\n",
       "      <th>...</th>\n",
       "      <td>...</td>\n",
       "      <td>...</td>\n",
       "      <td>...</td>\n",
       "      <td>...</td>\n",
       "    </tr>\n",
       "    <tr>\n",
       "      <th>9617</th>\n",
       "      <td>459959.064</td>\n",
       "      <td>26007.122</td>\n",
       "      <td>249700.419</td>\n",
       "      <td>735666.605</td>\n",
       "    </tr>\n",
       "    <tr>\n",
       "      <th>9618</th>\n",
       "      <td>28397.481</td>\n",
       "      <td>3144.895</td>\n",
       "      <td>84052.697</td>\n",
       "      <td>115595.073</td>\n",
       "    </tr>\n",
       "    <tr>\n",
       "      <th>9619</th>\n",
       "      <td>348037.846</td>\n",
       "      <td>29106.286</td>\n",
       "      <td>251129.660</td>\n",
       "      <td>628273.792</td>\n",
       "    </tr>\n",
       "    <tr>\n",
       "      <th>9620</th>\n",
       "      <td>1010643.372</td>\n",
       "      <td>65673.477</td>\n",
       "      <td>447622.068</td>\n",
       "      <td>1523938.917</td>\n",
       "    </tr>\n",
       "    <tr>\n",
       "      <th>9621</th>\n",
       "      <td>9305.552</td>\n",
       "      <td>1407.936</td>\n",
       "      <td>11538.322</td>\n",
       "      <td>22251.810</td>\n",
       "    </tr>\n",
       "  </tbody>\n",
       "</table>\n",
       "<p>9622 rows × 4 columns</p>\n",
       "</div>"
      ],
      "text/plain": [
       "             거주인구       근무인구        방문인구       총 유동인구\n",
       "0       32249.987   3418.266  102709.092   138377.345\n",
       "1      213500.997  10341.172  112692.789   336534.958\n",
       "2     1212382.218  96920.834  541194.481  1850497.533\n",
       "3       33991.653   6034.253   72155.919   112181.825\n",
       "4      155036.925   9403.969  150882.409   315323.303\n",
       "...           ...        ...         ...          ...\n",
       "9617   459959.064  26007.122  249700.419   735666.605\n",
       "9618    28397.481   3144.895   84052.697   115595.073\n",
       "9619   348037.846  29106.286  251129.660   628273.792\n",
       "9620  1010643.372  65673.477  447622.068  1523938.917\n",
       "9621     9305.552   1407.936   11538.322    22251.810\n",
       "\n",
       "[9622 rows x 4 columns]"
      ]
     },
     "execution_count": 31,
     "metadata": {},
     "output_type": "execute_result"
    }
   ],
   "source": [
    "df_jeju_population.loc[9621] = df_jeju_population.min()\n",
    "df_jeju_population"
   ]
  },
  {
   "cell_type": "code",
   "execution_count": 37,
   "id": "1bd6d112",
   "metadata": {},
   "outputs": [],
   "source": [
    "# min_거주인구 = jeju_df.거주인구.min()\n",
    "# min_근무인구 = jeju_df.근무인구.min()\n",
    "# min_방문인구 = jeju_df.방문인구.min()\n",
    "# min_총_유동인구 = jeju_df['총 유동인구'].min()"
   ]
  },
  {
   "cell_type": "code",
   "execution_count": 38,
   "id": "cd7ac03c",
   "metadata": {},
   "outputs": [],
   "source": [
    "# df_jeju_population.loc[new_df.shape[0]]= [min_거주인구,min_근무인구,min_방문인구, min_총_유동인구]"
   ]
  },
  {
   "cell_type": "code",
   "execution_count": 18,
   "id": "ed9d2d8d",
   "metadata": {},
   "outputs": [],
   "source": [
    "# q9. 총 유동인구 컬럼의 값들을 출력해보세요."
   ]
  },
  {
   "cell_type": "code",
   "execution_count": 19,
   "id": "09c8f27c",
   "metadata": {},
   "outputs": [
    {
     "data": {
      "text/plain": [
       "array([ 138377.345     ,  336534.958     , 1850497.533     , ...,\n",
       "        628273.792     , 1523938.917     ,  548792.24385833])"
      ]
     },
     "execution_count": 19,
     "metadata": {},
     "output_type": "execute_result"
    }
   ],
   "source": [
    "df_jeju_population['총 유동인구'].values"
   ]
  },
  {
   "cell_type": "code",
   "execution_count": 20,
   "id": "e5ce411e",
   "metadata": {},
   "outputs": [],
   "source": [
    "# q10. 읍면동명의 유일값의 개수를 구해보세요."
   ]
  },
  {
   "cell_type": "code",
   "execution_count": 34,
   "id": "30b8fd9f",
   "metadata": {},
   "outputs": [
    {
     "data": {
      "text/plain": [
       "41"
      ]
     },
     "execution_count": 34,
     "metadata": {},
     "output_type": "execute_result"
    }
   ],
   "source": [
    "df_jeju_object['읍면동명'].nunique()"
   ]
  },
  {
   "cell_type": "code",
   "execution_count": 36,
   "id": "44bb8836",
   "metadata": {},
   "outputs": [
    {
     "data": {
      "text/plain": [
       "41"
      ]
     },
     "execution_count": 36,
     "metadata": {},
     "output_type": "execute_result"
    }
   ],
   "source": [
    "len(df_jeju_object['읍면동명'].value_counts())"
   ]
  }
 ],
 "metadata": {
  "kernelspec": {
   "display_name": "Python 3 (ipykernel)",
   "language": "python",
   "name": "python3"
  },
  "language_info": {
   "codemirror_mode": {
    "name": "ipython",
    "version": 3
   },
   "file_extension": ".py",
   "mimetype": "text/x-python",
   "name": "python",
   "nbconvert_exporter": "python",
   "pygments_lexer": "ipython3",
   "version": "3.9.13"
  }
 },
 "nbformat": 4,
 "nbformat_minor": 5
}
