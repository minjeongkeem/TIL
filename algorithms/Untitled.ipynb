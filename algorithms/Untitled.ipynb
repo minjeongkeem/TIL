{
 "cells": [
  {
   "cell_type": "code",
   "execution_count": 11,
   "id": "f5eb4b0a",
   "metadata": {},
   "outputs": [
    {
     "name": "stdout",
     "output_type": "stream",
     "text": [
      "3\n",
      "5\n",
      "49679\n",
      "#1 9 2\n",
      "5\n",
      "08271\n",
      "#4 0 1\n"
     ]
    }
   ],
   "source": [
    "T = int(input())\n",
    "\n",
    "for tc in (1, T+1):\n",
    "    N = int(input())\n",
    "    str_numbers = list(input())\n",
    "    numbers = list(map(int, str_numbers))\n",
    "    dicts = {}\n",
    "    for idx1 in range(N):\n",
    "        number = numbers[idx1]\n",
    "        count = 0\n",
    "        for idx2 in range(N):\n",
    "            if numbers[idx2] == number:\n",
    "                count += 1\n",
    "                dicts[f'{number}'] = count\n",
    "    sorted_dicts = sorted(dicts.values(), reverse=True)\n",
    "    key_lists = list(dicts.keys())\n",
    "    val_lists = list(dicts.values())\n",
    "    position = val_lists.index(sorted_dicts[0])\n",
    "    print(f'#{tc} {key_lists[position]} {sorted_dicts[0]}')"
   ]
  },
  {
   "cell_type": "code",
   "execution_count": 31,
   "id": "e9451691",
   "metadata": {},
   "outputs": [
    {
     "name": "stdout",
     "output_type": "stream",
     "text": [
      "3\n",
      "5\n",
      "49679\n",
      "#1 9 2\n",
      "5\n",
      "08271\n",
      "#2 9 1\n",
      "10\n",
      "7797946543\n",
      "#3 7 3\n"
     ]
    }
   ],
   "source": [
    "T = int(input())\n",
    "\n",
    "for tc in range (1, T+1):\n",
    "    N = int(input())\n",
    "    str_numbers = list(input())\n",
    "    numbers = list(map(int, str_numbers))\n",
    "    dicts = {}\n",
    "    for idx1 in range(N):\n",
    "        number = numbers[idx1]\n",
    "        count = 0\n",
    "        for idx2 in range(N):\n",
    "            if numbers[idx2] == number:\n",
    "                count += 1\n",
    "                dicts[f'{number}'] = count\n",
    "    sorted_dicts = sorted(dicts.values(), reverse=True)\n",
    "    sorted_key_lists = sorted(key_lists, reverse=True)\n",
    "    key_lists = list(dicts.keys())\n",
    "    val_lists = list(dicts.values())\n",
    "    position = val_lists.index(sorted_dicts[0])\n",
    "    if len(set(val_lists)) == 1:\n",
    "        print(f'#{tc} {sorted_key_lists[0]} {sorted_dicts[0]}')\n",
    "    else:\n",
    "        print(f'#{tc} {key_lists[position]} {sorted_dicts[0]}')"
   ]
  },
  {
   "cell_type": "code",
   "execution_count": 44,
   "id": "9a4963b3",
   "metadata": {},
   "outputs": [
    {
     "name": "stdout",
     "output_type": "stream",
     "text": [
      "1\n",
      "20 19\n",
      "3266 9419 3087 9001 9321 1341 7379 6236 5795 8910 2990 2152 2249 4059 1394 6871 4911 3648 1969 2176\n",
      "[1341, 1394, 1969, 2152, 2176, 2249, 2990, 3087, 3266, 3648, 4059, 4911, 5795, 6236, 6871, 7379, 8910, 9001, 9321, 9419]\n",
      "[1341, 1394, 1969, 2152, 2176, 2249, 2990, 3087, 3266, 3648, 4059, 4911, 5795, 6236, 6871, 7379, 8910, 9001, 9321]\n",
      "[1394, 1969, 2152, 2176, 2249, 2990, 3087, 3266, 3648, 4059, 4911, 5795, 6236, 6871, 7379, 8910, 9001, 9321, 9419]\n",
      "86755\n",
      "94833\n",
      "#1 8078\n"
     ]
    }
   ],
   "source": [
    "T = int(input())\n",
    "\n",
    "for tc in range(1, T+1):\n",
    "    N, M = map(int, input().split())\n",
    "    numbers = list(map(int, input().split()))\n",
    "\n",
    "\n",
    "    for idx1 in range(N):\n",
    "        first_value = numbers[idx1]\n",
    "        for idx2 in range(N):\n",
    "            if first_value < numbers[idx2]:\n",
    "                first_value, numbers[idx2] = numbers[idx2], first_value\n",
    "                numbers[idx1] = first_value\n",
    "                \n",
    "    min_sum_list = numbers[:M]\n",
    "    min_sum = sum(min_sum_list)\n",
    "    max_sum_list = numbers[-M:]\n",
    "    max_sum = sum(max_sum_list)\n",
    "    ans = max_sum - min_sum\n",
    "    print(numbers)\n",
    "    print(min_sum_list)\n",
    "    print(max_sum_list)\n",
    "    print(min_sum)\n",
    "    print(max_sum)\n",
    "    print(f'#{tc} {ans}')"
   ]
  },
  {
   "cell_type": "code",
   "execution_count": 46,
   "id": "51fb7e65",
   "metadata": {
    "scrolled": true
   },
   "outputs": [
    {
     "name": "stdout",
     "output_type": "stream",
     "text": [
      "1\n",
      "20 19\n",
      "3266 9419 3087 9001 9321 1341 7379 6236 5795 8910 2990 2152 2249 4059 1394 6871 4911 3648 1969 2176\n",
      "#1 -1090\n"
     ]
    }
   ],
   "source": [
    "T = int(input())\n",
    "\n",
    "for tc in range(1, T+1):\n",
    "    N, M = map(int, input().split())\n",
    "    numbers = list(map(int, input().split()))\n",
    "\n",
    "    min_sum_list = numbers[:M]\n",
    "    min_sum = sum(min_sum_list)\n",
    "    max_sum_list = numbers[-M:]\n",
    "    max_sum = sum(max_sum_list)\n",
    "    ans = max_sum - min_sum\n",
    "    print(f'#{tc} {ans}')"
   ]
  },
  {
   "cell_type": "code",
   "execution_count": 47,
   "id": "b07a1788",
   "metadata": {},
   "outputs": [
    {
     "name": "stdout",
     "output_type": "stream",
     "text": [
      "1\n",
      "20 19\n",
      "3266 9419 3087 9001 9321 1341 7379 6236 5795 8910 2990 2152 2249 4059 1394 6871 4911 3648 1969 2176\n",
      "#1 -1090\n"
     ]
    }
   ],
   "source": [
    "T = int(input())\n",
    "\n",
    "for tc in range(1, T+1):\n",
    "    N, M = map(int, input().split())\n",
    "    numbers = list(map(int, input().split()))\n",
    "\n",
    "    min_sum_list = numbers[:M]\n",
    "    min_sum = sum(min_sum_list)\n",
    "    max_sum_list = numbers[-M:]\n",
    "    max_sum = sum(max_sum_list)\n",
    "    ans = max_sum - min_sum\n",
    "    if ans < 0:\n",
    "        -ans\n",
    "    else:\n",
    "        pass\n",
    "    print(f'#{tc} {ans}')"
   ]
  },
  {
   "cell_type": "code",
   "execution_count": 56,
   "id": "0be21d62",
   "metadata": {},
   "outputs": [
    {
     "name": "stdout",
     "output_type": "stream",
     "text": [
      "1\n",
      "20 19\n",
      "3266 9419 3087 9001 9321 1341 7379 6236 5795 8910 2990 2152 2249 4059 1394 6871 4911 3648 1969 2176\n",
      "#1 1090\n"
     ]
    }
   ],
   "source": [
    "T = int(input())\n",
    "for tc in range(1, T + 1):\n",
    "    N, M = map(int, input().split())\n",
    "    numbers = list(map(int, input().split()))\n",
    "\n",
    "    ans_list = []\n",
    "    for idx in range(N-M+1):\n",
    "        ans_list.append(sum(numbers[idx:idx+M]))\n",
    "        ans = max(ans_list) - min(ans_list)\n",
    "    print(f'#{tc} {ans}')"
   ]
  }
 ],
 "metadata": {
  "kernelspec": {
   "display_name": "Python 3 (ipykernel)",
   "language": "python",
   "name": "python3"
  },
  "language_info": {
   "codemirror_mode": {
    "name": "ipython",
    "version": 3
   },
   "file_extension": ".py",
   "mimetype": "text/x-python",
   "name": "python",
   "nbconvert_exporter": "python",
   "pygments_lexer": "ipython3",
   "version": "3.10.9"
  }
 },
 "nbformat": 4,
 "nbformat_minor": 5
}
